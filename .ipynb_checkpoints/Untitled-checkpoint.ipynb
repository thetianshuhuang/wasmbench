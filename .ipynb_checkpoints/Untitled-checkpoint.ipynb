{
 "cells": [
  {
   "cell_type": "code",
   "execution_count": 5,
   "id": "e29a982e-2987-4bd9-b6d0-a86545b81a72",
   "metadata": {},
   "outputs": [],
   "source": [
    "import pandas as pd\n",
    "from matplotlib import pyplot as plt"
   ]
  },
  {
   "cell_type": "code",
   "execution_count": 8,
   "id": "7d249eff-0eb5-4496-b47c-c822379335cc",
   "metadata": {},
   "outputs": [],
   "source": [
    "data = {}\n",
    "data[\"desktop\"] = [{\"bogo\": 1340, \"blake\": 1536, \"life\": 1887},{\"bogo\": 1339, \"blake\": 1532, \"life\": 1886},{\"bogo\": 1336, \"blake\": 1531, \"life\": 1885},{\"bogo\": 1338, \"blake\": 1532, \"life\": 1883},{\"bogo\": 1335, \"blake\": 1531, \"life\": 1885},{\"bogo\": 1336, \"blake\": 1536, \"life\": 1892},{\"bogo\": 1337, \"blake\": 1519, \"life\": 1870},{\"bogo\": 1329, \"blake\": 1519, \"life\": 1870},{\"bogo\": 1326, \"blake\": 1518, \"life\": 1869},{\"bogo\": 1329, \"blake\": 1521, \"life\": 1870}]\n",
    "data[\"desktop-cranelift\"] = [{\"bogo\": 1363, \"blake\": 1583, \"life\": 1896},{\"bogo\": 1381, \"blake\": 1599, \"life\": 1891},{\"bogo\": 1378, \"blake\": 1594, \"life\": 1898},{\"bogo\": 1372, \"blake\": 1585, \"life\": 1885},{\"bogo\": 1373, \"blake\": 1604, \"life\": 1905},{\"bogo\": 1389, \"blake\": 1587, \"life\": 1880},{\"bogo\": 1381, \"blake\": 1612, \"life\": 1900},{\"bogo\": 1381, \"blake\": 1598, \"life\": 1911},{\"bogo\": 1388, \"blake\": 1598, \"life\": 1899},{\"bogo\": 1380, \"blake\": 1591, \"life\": 1903}]\n",
    "data[\"laptop\"] = [{\"bogo\": 2232, \"blake\": 2538, \"life\": 3388},{\"bogo\": 2203, \"blake\": 2530, \"life\": 3687},{\"bogo\": 2211, \"blake\": 2537, \"life\": 3389},{\"bogo\": 2208, \"blake\": 2572, \"life\": 3387},{\"bogo\": 2203, \"blake\": 2628, \"life\": 3390},{\"bogo\": 2203, \"blake\": 2531, \"life\": 3551},{\"bogo\": 2223, \"blake\": 2574, \"life\": 3398},{\"bogo\": 2211, \"blake\": 2544, \"life\": 3442},{\"bogo\": 2201, \"blake\": 2531, \"life\": 3395},{\"bogo\": 2207, \"blake\": 5062, \"life\": 7930}]\n",
    "data[\"rpi\"] = [{\"bogo\": 5769, \"blake\": 10488, \"life\": 8702},{\"bogo\": 5773, \"blake\": 10541, \"life\": 8688},{\"bogo\": 5766, \"blake\": 10544, \"life\": 8689},{\"bogo\": 5769, \"blake\": 10521, \"life\": 8691},{\"bogo\": 5767, \"blake\": 10503, \"life\": 8691},{\"bogo\": 5785, \"blake\": 10455, \"life\": 8694},{\"bogo\": 5773, \"blake\": 10494, \"life\": 8690},{\"bogo\": 5780, \"blake\": 10461, \"life\": 8695},{\"bogo\": 5765, \"blake\": 10467, \"life\": 8692},{\"bogo\": 5768, \"blake\": 10514, \"life\": 8684}]"
   ]
  },
  {
   "cell_type": "code",
   "execution_count": 30,
   "id": "197680a5",
   "metadata": {},
   "outputs": [
    {
     "name": "stdout",
     "output_type": "stream",
     "text": [
      "bogo     1336.0\n",
      "blake    1531.0\n",
      "life     1884.0\n",
      "dtype: float64\n",
      "bogo     2207.5\n",
      "blake    2541.0\n",
      "life     3396.5\n",
      "dtype: float64\n",
      "bogo      5769.0\n",
      "blake    10498.5\n",
      "life      8691.0\n",
      "dtype: float64\n"
     ]
    },
    {
     "data": {
      "text/plain": [
       "Text(0.5, 0, 'Blake / Bogo')"
      ]
     },
     "execution_count": 30,
     "metadata": {},
     "output_type": "execute_result"
    },
    {
     "data": {
      "image/png": "[encoded data removed]",
      "text/plain": [
       "<Figure size 576x432 with 1 Axes>"
      ]
     },
     "metadata": {
      "needs_background": "light"
     },
     "output_type": "display_data"
    }
   ],
   "source": [
    "fig, axs = plt.subplots(1, 1, figsize=(8, 6))\n",
    "for k, v in data.items():\n",
    "    m = pd.DataFrame(v).median()\n",
    "    print(m)\n",
    "    axs.scatter(m.blake / m.bogo, m.life / m.bogo, label=k)\n",
    "axs.legend()\n",
    "axs.set_ylabel(\"Life / Bogo\")\n",
    "axs.set_xlabel(\"Blake / Bogo\")"
   ]
  }
 ],
 "metadata": {
  "kernelspec": {
   "display_name": "Python 3 (ipykernel)",
   "language": "python",
   "name": "python3"
  },
  "language_info": {
   "codemirror_mode": {
    "name": "ipython",
    "version": 3
   },
   "file_extension": ".py",
   "mimetype": "text/x-python",
   "name": "python",
   "nbconvert_exporter": "python",
   "pygments_lexer": "ipython3",
   "version": "3.9.7"
  }
 },
 "nbformat": 4,
 "nbformat_minor": 5
}
